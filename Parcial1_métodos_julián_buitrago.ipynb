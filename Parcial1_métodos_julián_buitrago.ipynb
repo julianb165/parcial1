{
  "nbformat": 4,
  "nbformat_minor": 0,
  "metadata": {
    "colab": {
      "name": "Parcial1_métodos_julián_buitrago.ipynb",
      "provenance": []
    },
    "kernelspec": {
      "name": "python3",
      "display_name": "Python 3"
    },
    "language_info": {
      "name": "python"
    }
  },
  "cells": [
    {
      "cell_type": "code",
      "execution_count": 11,
      "metadata": {
        "id": "Yo95Ms0F4Jq0"
      },
      "outputs": [],
      "source": [
        "import pandas as pd\n",
        "import numpy as np\n",
        "import matplotlib.pyplot as plt\n",
        "from scipy.optimize import *"
      ]
    },
    {
      "cell_type": "markdown",
      "source": [
        "1)  En un notebook de jupyter desarrolle los siguientes pasos\n",
        "\n",
        "\n",
        "Descargue el JSON con la lista de paises del siguiente link:\n",
        "\n",
        "\n",
        "https://datahub.io/core/country-list/r/data.json\n",
        "\n",
        "\n",
        "y escoja aleatoriamente un país\n",
        "\n",
        "\n",
        "Use los diferentes API endpoints de inspire-hep \n",
        "\n",
        "\n",
        "https://inspirehep.net/\n",
        "\n",
        "\n",
        " para extraer la lista de investigadores de una institución de ese país  en esa base de datos. \n",
        "\n",
        "\n",
        "Para ello:\n",
        "\n",
        "A) Use el API de institutions para extraer la lista de instituciones del país, por ejemplo: colombia\n",
        "https://inspirehep.net/api/institutions?q=colombia\n",
        "\n",
        "\n",
        "Para la primera institución con\n",
        "\n",
        "number_of_papers > 0\n",
        "\n",
        "\n",
        "Obtenga el valor\n",
        "\n",
        "legacy_ICN:\n",
        "\n",
        "\n",
        "Por ejemplo: \n",
        "Colombia, U. Natl.\n",
        "\n",
        "\n",
        "Si ninguna institución satisface la condición number_of_papers > 0, escoja de nuevo otro país aleatorio y repita el proceso"
      ],
      "metadata": {
        "id": "m9qjzgohNKF4"
      }
    },
    {
      "cell_type": "code",
      "source": [
        "#No tenía acceso a Jupyter en el momento así que lo hice a través de Colab y Drive\n",
        "\n",
        "from google.colab import drive \n",
        "drive.mount(\"/content/gdrive\", force_remount=True)\n",
        "\n",
        "!cp '/content/gdrive/MyDrive/Colab Notebooks/data.json' 'data.json'"
      ],
      "metadata": {
        "colab": {
          "base_uri": "https://localhost:8080/"
        },
        "id": "6dcOACVhQUTf",
        "outputId": "f948afdd-13d9-4ad6-8d21-54e6a4a5a7ce"
      },
      "execution_count": 146,
      "outputs": [
        {
          "output_type": "stream",
          "name": "stdout",
          "text": [
            "Mounted at /content/gdrive\n"
          ]
        }
      ]
    },
    {
      "cell_type": "code",
      "source": [
        "dat= pd.read_json('data.json') #Se importan los datos\n",
        "alt= np.random.randint(0,195) #se escoge un número entre 0 y 195 (hsy 195 paises en el mundo)\n",
        "cty= dat.loc[alt,'Name'] #dat.loc se usa para acceder a un grupo de filas y columnas\n",
        "lnk = 'https://inspirehep.net/api/institutions?q=' + cty #el link queda modificado con  el nombre obtenido usando dat.loc\n",
        "print(cty)"
      ],
      "metadata": {
        "colab": {
          "base_uri": "https://localhost:8080/"
        },
        "id": "FwW7-rZ_NSwI",
        "outputId": "a2796f76-a774-4e7e-d358-00c511fb1727"
      },
      "execution_count": 181,
      "outputs": [
        {
          "output_type": "stream",
          "name": "stdout",
          "text": [
            "Finland\n"
          ]
        }
      ]
    },
    {
      "cell_type": "code",
      "source": [
        "dat = pd.read_json(lnk) #Tenemos ahora el link evaluado en la base de datos\n",
        "\n",
        "if dat['hits']['hits'][0]['metadata']['number_of_papers']<0:\n",
        "   print('Intente de nuevo') #esto en caso de no cumplirse la condición pedida por el profesor\n",
        "else: \n",
        "   print ('legacy_ICN:',dat['hits']['hits'][0]['metadata']['legacy_ICN']) #en caso de cumplirse"
      ],
      "metadata": {
        "colab": {
          "base_uri": "https://localhost:8080/"
        },
        "id": "u1BJevifPzha",
        "outputId": "35fe364a-498f-4d0d-e941-221c64a4eae2"
      },
      "execution_count": 182,
      "outputs": [
        {
          "output_type": "stream",
          "name": "stdout",
          "text": [
            "legacy_ICN: Helsinki, Academy of Finland\n"
          ]
        }
      ]
    },
    {
      "cell_type": "markdown",
      "source": [
        "2) \n",
        "A) Genere un polinomio de numpy con 3 raices reales aleatorias entre los dos últimos números diferentes de su identificación (Ejemplo: 98554575 → 3 raices reales aleatorias  entre 5 y 7 )"
      ],
      "metadata": {
        "id": "Ivz0D2i44fTT"
      }
    },
    {
      "cell_type": "code",
      "source": [
        "#En mi caso sería utilizando los números 6 y 8\n",
        "\n",
        "rnd = np.random.uniform(6,8,3) #Escoge los valores entre 6 y 8, pues este se usa para generar arrays con valores aleatorios uniformes\n",
        "p = np.poly1d(np.poly(rnd)) #transforma en polimnomio\n",
        "print(p) #muestra el polinomio"
      ],
      "metadata": {
        "colab": {
          "base_uri": "https://localhost:8080/"
        },
        "id": "jIQ9z8SR4kzj",
        "outputId": "49ed9540-13d6-4fdd-e568-d5039c0f21d8"
      },
      "execution_count": 94,
      "outputs": [
        {
          "output_type": "stream",
          "name": "stdout",
          "text": [
            "   3         2\n",
            "1 x - 22.66 x + 171 x - 429.9\n"
          ]
        }
      ]
    },
    {
      "cell_type": "code",
      "source": [
        "np.roots(p) #raices del polinomio"
      ],
      "metadata": {
        "colab": {
          "base_uri": "https://localhost:8080/"
        },
        "id": "AXkSVKoX7PPs",
        "outputId": "b912e79a-0ecf-4206-f91e-0362f85fcb40"
      },
      "execution_count": 95,
      "outputs": [
        {
          "output_type": "execute_result",
          "data": {
            "text/plain": [
              "array([7.93770397, 7.41099168, 7.30808065])"
            ]
          },
          "metadata": {},
          "execution_count": 95
        }
      ]
    },
    {
      "cell_type": "markdown",
      "source": [
        "B) Encuentre los puntos críticos del polinomio: las raices de la derivada el polinomio."
      ],
      "metadata": {
        "id": "ZHPIYyDI71k7"
      }
    },
    {
      "cell_type": "code",
      "source": [
        "#para esto podemos utilizar la función de derivada de numpy, pues esto hace todo más rápido y sencillo que otros métodos más manuales\n",
        "\n",
        "der = np.polyder(p) #se deriva el polinomio\n",
        "print(der) #se muestra el polinomio"
      ],
      "metadata": {
        "colab": {
          "base_uri": "https://localhost:8080/"
        },
        "id": "Ia-E59c472s8",
        "outputId": "55a75081-7a85-4c30-f888-4dcabf681c05"
      },
      "execution_count": 96,
      "outputs": [
        {
          "output_type": "stream",
          "name": "stdout",
          "text": [
            "   2\n",
            "3 x - 45.31 x + 171\n"
          ]
        }
      ]
    },
    {
      "cell_type": "code",
      "source": [
        "np.roots(der) #estas son las raices de la derivada"
      ],
      "metadata": {
        "colab": {
          "base_uri": "https://localhost:8080/"
        },
        "id": "6m_pBxXU8NP6",
        "outputId": "4dd46bd9-57b0-4ffa-87d0-dffe651c7e7a"
      },
      "execution_count": 100,
      "outputs": [
        {
          "output_type": "execute_result",
          "data": {
            "text/plain": [
              "array([7.74725763, 7.3572599 ])"
            ]
          },
          "metadata": {},
          "execution_count": 100
        }
      ]
    },
    {
      "cell_type": "markdown",
      "source": [
        "C) Con alguna de los métodos para encontrar mínimos compruebe que el punto crítico de menor (mayor) valor corresponde al mínimo (máximo) global del polinomio"
      ],
      "metadata": {
        "id": "8VjNCpeW84eg"
      }
    },
    {
      "cell_type": "markdown",
      "source": [
        "Un punto critico es máximo si se evalua este en la segunda derivada y nos da negativo, y es mínimo si al evaluarlo en la segunda derivada nos da positivo. "
      ],
      "metadata": {
        "id": "FmePdbCx92wu"
      }
    },
    {
      "cell_type": "code",
      "source": [
        "#Ahora en este punto es necesario obtener la segunda derivada de nuestro polinomio, nuevamente <cudiendo a Numpy para ello\n",
        "\n",
        "der2= np.polyder(der) #simplemente derivamos la derivada del polinomio\n",
        "print(der2)"
      ],
      "metadata": {
        "colab": {
          "base_uri": "https://localhost:8080/"
        },
        "id": "0qCN35fC886H",
        "outputId": "1bd000ef-e4f3-44d3-d536-fc53ed23d891"
      },
      "execution_count": 98,
      "outputs": [
        {
          "output_type": "stream",
          "name": "stdout",
          "text": [
            " \n",
            "6 x - 45.31\n"
          ]
        }
      ]
    },
    {
      "cell_type": "code",
      "source": [
        "#Ahora para los minimos y máximos es cuestión de evaluar el punto critico en la segunda derivada del polinomio\n",
        "\n",
        "print('Evaluando el primer punto en la segunda derivada tenemos:' , der2(7.74725763))\n",
        "print('Evaluando el segundo punto en la segunda derivada tenemos:' , der2(7.3572599))"
      ],
      "metadata": {
        "colab": {
          "base_uri": "https://localhost:8080/"
        },
        "id": "N8eAXxPv9f0O",
        "outputId": "641c846b-093a-40b7-b114-8f5bab7d5b60"
      },
      "execution_count": 101,
      "outputs": [
        {
          "output_type": "stream",
          "name": "stdout",
          "text": [
            "Evaluando el primer punto en la segunda derivada tenemos: 1.1699931893837316\n",
            "Evaluando el segundo punto en la segunda derivada tenemos: -1.1699931906162675\n"
          ]
        }
      ]
    },
    {
      "cell_type": "markdown",
      "source": [
        "Teniendo en cuenta las codiciones anteriores, podemosa observar que el primer número es un mínimo y el segundo un máximo."
      ],
      "metadata": {
        "id": "9MNgSoVw_wdQ"
      }
    },
    {
      "cell_type": "markdown",
      "source": [
        "D) Grafique el polinomío inclueyendo los puntos asociados a las raices."
      ],
      "metadata": {
        "id": "jhHKjQb7AClo"
      }
    },
    {
      "cell_type": "code",
      "source": [
        "\n",
        "x= np.linspace(6,9,2000)\n",
        "plt.figure(figsize= (14,6))\n",
        "plt.plot(x,p(x), label= 'Polinomio')\n",
        "plt.axhline(0,color=\"b\")\n",
        "plt.plot(x,der(x), label= 'Derivada', color=\"g\")\n",
        "plt.plot(x,der2(x), label= ' Segunda Derivada', color=\"r\")\n",
        "plt.plot([7.74725763,7.3572599],[p(7.74725763),p(7.3572599)], 'o', label='Puntos criticos')\n",
        "plt.plot(np.roots(p),np.zeros(len(np.roots(p))),'o', label = \"Raices\", color=\"y\")\n",
        "plt.legend()\n",
        "plt.grid()\n",
        "plt.show()"
      ],
      "metadata": {
        "colab": {
          "base_uri": "https://localhost:8080/",
          "height": 374
        },
        "id": "8gEQBDCzEd61",
        "outputId": "a8a15258-9118-44e7-e0d0-ebdc1c0e4ac1"
      },
      "execution_count": 113,
      "outputs": [
        {
          "output_type": "display_data",
          "data": {
            "text/plain": [
              "<Figure size 1008x432 with 1 Axes>"
            ],
            "image/png": "[encoded data removed]"
          },
          "metadata": {
            "needs_background": "light"
          }
        }
      ]
    }
  ]
}